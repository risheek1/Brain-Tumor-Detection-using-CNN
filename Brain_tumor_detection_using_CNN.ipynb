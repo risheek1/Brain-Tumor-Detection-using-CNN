{
  "nbformat": 4,
  "nbformat_minor": 0,
  "metadata": {
    "colab": {
      "name": "Brain tumor detection using  CNN.ipynb",
      "provenance": []
    },
    "kernelspec": {
      "name": "python3",
      "display_name": "Python 3"
    },
    "language_info": {
      "name": "python"
    }
  },
  "cells": [
    {
      "cell_type": "code",
      "metadata": {
        "id": "aOmb8DQiaJ3S",
        "colab": {
          "base_uri": "https://localhost:8080/"
        },
        "outputId": "818db081-d0f2-4eaa-ba37-b511e890d168"
      },
      "source": [
        "!unzip './archive (13).zip'"
      ],
      "execution_count": 20,
      "outputs": [
        {
          "output_type": "stream",
          "name": "stdout",
          "text": [
            "Archive:  ./archive (13).zip\n",
            "  inflating: brain_tumor_dataset/no/1 no.jpeg  \n",
            "  inflating: brain_tumor_dataset/no/10 no.jpg  \n",
            "  inflating: brain_tumor_dataset/no/11 no.jpg  \n",
            "  inflating: brain_tumor_dataset/no/12 no.jpg  \n",
            "  inflating: brain_tumor_dataset/no/13 no.jpg  \n",
            "  inflating: brain_tumor_dataset/no/14 no.jpg  \n",
            "  inflating: brain_tumor_dataset/no/15 no.jpg  \n",
            "  inflating: brain_tumor_dataset/no/17 no.jpg  \n",
            "  inflating: brain_tumor_dataset/no/18 no.jpg  \n",
            "  inflating: brain_tumor_dataset/no/19 no.jpg  \n",
            "  inflating: brain_tumor_dataset/no/2 no.jpeg  \n",
            "  inflating: brain_tumor_dataset/no/20 no.jpg  \n",
            "  inflating: brain_tumor_dataset/no/21 no.jpg  \n",
            "  inflating: brain_tumor_dataset/no/22 no.jpg  \n",
            "  inflating: brain_tumor_dataset/no/23 no.jpg  \n",
            "  inflating: brain_tumor_dataset/no/24 no.jpg  \n",
            "  inflating: brain_tumor_dataset/no/25 no.jpg  \n",
            "  inflating: brain_tumor_dataset/no/26 no.jpg  \n",
            "  inflating: brain_tumor_dataset/no/27 no.jpg  \n",
            "  inflating: brain_tumor_dataset/no/28 no.jpg  \n",
            "  inflating: brain_tumor_dataset/no/29 no.jpg  \n",
            "  inflating: brain_tumor_dataset/no/3 no.jpg  \n",
            "  inflating: brain_tumor_dataset/no/30 no.jpg  \n",
            "  inflating: brain_tumor_dataset/no/31 no.jpg  \n",
            "  inflating: brain_tumor_dataset/no/32 no.jpg  \n",
            "  inflating: brain_tumor_dataset/no/33 no.jpg  \n",
            "  inflating: brain_tumor_dataset/no/34 no.jpg  \n",
            "  inflating: brain_tumor_dataset/no/35 no.jpg  \n",
            "  inflating: brain_tumor_dataset/no/36 no.jpg  \n",
            "  inflating: brain_tumor_dataset/no/37 no.jpg  \n",
            "  inflating: brain_tumor_dataset/no/38 no.jpg  \n",
            "  inflating: brain_tumor_dataset/no/39 no.jpg  \n",
            "  inflating: brain_tumor_dataset/no/4 no.jpg  \n",
            "  inflating: brain_tumor_dataset/no/40 no.jpg  \n",
            "  inflating: brain_tumor_dataset/no/41 no.jpg  \n",
            "  inflating: brain_tumor_dataset/no/42 no.jpg  \n",
            "  inflating: brain_tumor_dataset/no/43 no.jpg  \n",
            "  inflating: brain_tumor_dataset/no/44no.jpg  \n",
            "  inflating: brain_tumor_dataset/no/45 no.jpg  \n",
            "  inflating: brain_tumor_dataset/no/46 no.jpg  \n",
            "  inflating: brain_tumor_dataset/no/47 no.jpg  \n",
            "  inflating: brain_tumor_dataset/no/48 no.jpeg  \n",
            "  inflating: brain_tumor_dataset/no/49 no.jpg  \n",
            "  inflating: brain_tumor_dataset/no/5 no.jpg  \n",
            "  inflating: brain_tumor_dataset/no/50 no.jpg  \n",
            "  inflating: brain_tumor_dataset/no/6 no.jpg  \n",
            "  inflating: brain_tumor_dataset/no/7 no.jpg  \n",
            "  inflating: brain_tumor_dataset/no/8 no.jpg  \n",
            "  inflating: brain_tumor_dataset/no/9 no.jpg  \n",
            "  inflating: brain_tumor_dataset/no/N1.JPG  \n",
            "  inflating: brain_tumor_dataset/no/N11.jpg  \n",
            "  inflating: brain_tumor_dataset/no/N15.jpg  \n",
            "  inflating: brain_tumor_dataset/no/N16.jpg  \n",
            "  inflating: brain_tumor_dataset/no/N17.jpg  \n",
            "  inflating: brain_tumor_dataset/no/N19.JPG  \n",
            "  inflating: brain_tumor_dataset/no/N2.JPG  \n",
            "  inflating: brain_tumor_dataset/no/N20.JPG  \n",
            "  inflating: brain_tumor_dataset/no/N21.jpg  \n",
            "  inflating: brain_tumor_dataset/no/N22.JPG  \n",
            "  inflating: brain_tumor_dataset/no/N26.JPG  \n",
            "  inflating: brain_tumor_dataset/no/N3.jpg  \n",
            "  inflating: brain_tumor_dataset/no/N5.jpg  \n",
            "  inflating: brain_tumor_dataset/no/N6.jpg  \n",
            "  inflating: brain_tumor_dataset/no/No11.jpg  \n",
            "  inflating: brain_tumor_dataset/no/No12.jpg  \n",
            "  inflating: brain_tumor_dataset/no/No13.jpg  \n",
            "  inflating: brain_tumor_dataset/no/No14.jpg  \n",
            "  inflating: brain_tumor_dataset/no/No15.jpg  \n",
            "  inflating: brain_tumor_dataset/no/No16.jpg  \n",
            "  inflating: brain_tumor_dataset/no/No17.jpg  \n",
            "  inflating: brain_tumor_dataset/no/No18.jpg  \n",
            "  inflating: brain_tumor_dataset/no/No19.jpg  \n",
            "  inflating: brain_tumor_dataset/no/No20.jpg  \n",
            "  inflating: brain_tumor_dataset/no/No21.jpg  \n",
            "  inflating: brain_tumor_dataset/no/No22.jpg  \n",
            "  inflating: brain_tumor_dataset/no/no 1.jpg  \n",
            "  inflating: brain_tumor_dataset/no/no 10.jpg  \n",
            "  inflating: brain_tumor_dataset/no/no 100.jpg  \n",
            "  inflating: brain_tumor_dataset/no/no 2.jpg  \n",
            "  inflating: brain_tumor_dataset/no/no 3.jpg  \n",
            "  inflating: brain_tumor_dataset/no/no 4.jpg  \n",
            "  inflating: brain_tumor_dataset/no/no 5.jpeg  \n",
            "  inflating: brain_tumor_dataset/no/no 6.jpg  \n",
            "  inflating: brain_tumor_dataset/no/no 7.jpeg  \n",
            "  inflating: brain_tumor_dataset/no/no 8.jpg  \n",
            "  inflating: brain_tumor_dataset/no/no 89.jpg  \n",
            "  inflating: brain_tumor_dataset/no/no 9.png  \n",
            "  inflating: brain_tumor_dataset/no/no 90.jpg  \n",
            "  inflating: brain_tumor_dataset/no/no 91.jpeg  \n",
            "  inflating: brain_tumor_dataset/no/no 92.jpg  \n",
            "  inflating: brain_tumor_dataset/no/no 923.jpg  \n",
            "  inflating: brain_tumor_dataset/no/no 94.jpg  \n",
            "  inflating: brain_tumor_dataset/no/no 95.jpg  \n",
            "  inflating: brain_tumor_dataset/no/no 96.jpg  \n",
            "  inflating: brain_tumor_dataset/no/no 97.jpg  \n",
            "  inflating: brain_tumor_dataset/no/no 98.jpg  \n",
            "  inflating: brain_tumor_dataset/no/no 99.jpg  \n",
            "  inflating: brain_tumor_dataset/no/no.jpg  \n",
            "  inflating: brain_tumor_dataset/yes/Y1.jpg  \n",
            "  inflating: brain_tumor_dataset/yes/Y10.jpg  \n",
            "  inflating: brain_tumor_dataset/yes/Y100.JPG  \n",
            "  inflating: brain_tumor_dataset/yes/Y101.jpg  \n",
            "  inflating: brain_tumor_dataset/yes/Y102.jpg  \n",
            "  inflating: brain_tumor_dataset/yes/Y103.jpg  \n",
            "  inflating: brain_tumor_dataset/yes/Y104.jpg  \n",
            "  inflating: brain_tumor_dataset/yes/Y105.jpg  \n",
            "  inflating: brain_tumor_dataset/yes/Y106.jpg  \n",
            "  inflating: brain_tumor_dataset/yes/Y107.jpg  \n",
            "  inflating: brain_tumor_dataset/yes/Y108.jpg  \n",
            "  inflating: brain_tumor_dataset/yes/Y109.JPG  \n",
            "  inflating: brain_tumor_dataset/yes/Y11.jpg  \n",
            "  inflating: brain_tumor_dataset/yes/Y111.JPG  \n",
            "  inflating: brain_tumor_dataset/yes/Y112.JPG  \n",
            "  inflating: brain_tumor_dataset/yes/Y113.JPG  \n",
            "  inflating: brain_tumor_dataset/yes/Y114.JPG  \n",
            "  inflating: brain_tumor_dataset/yes/Y115.JPG  \n",
            "  inflating: brain_tumor_dataset/yes/Y116.JPG  \n",
            "  inflating: brain_tumor_dataset/yes/Y117.JPG  \n",
            "  inflating: brain_tumor_dataset/yes/Y12.jpg  \n",
            "  inflating: brain_tumor_dataset/yes/Y120.JPG  \n",
            "  inflating: brain_tumor_dataset/yes/Y13.jpg  \n",
            "  inflating: brain_tumor_dataset/yes/Y14.jpg  \n",
            "  inflating: brain_tumor_dataset/yes/Y146.JPG  \n",
            "  inflating: brain_tumor_dataset/yes/Y147.JPG  \n",
            "  inflating: brain_tumor_dataset/yes/Y148.JPG  \n",
            "  inflating: brain_tumor_dataset/yes/Y15.jpg  \n",
            "  inflating: brain_tumor_dataset/yes/Y153.jpg  \n",
            "  inflating: brain_tumor_dataset/yes/Y154.jpg  \n",
            "  inflating: brain_tumor_dataset/yes/Y155.JPG  \n",
            "  inflating: brain_tumor_dataset/yes/Y156.JPG  \n",
            "  inflating: brain_tumor_dataset/yes/Y157.JPG  \n",
            "  inflating: brain_tumor_dataset/yes/Y158.JPG  \n",
            "  inflating: brain_tumor_dataset/yes/Y159.JPG  \n",
            "  inflating: brain_tumor_dataset/yes/Y16.JPG  \n",
            "  inflating: brain_tumor_dataset/yes/Y160.JPG  \n",
            "  inflating: brain_tumor_dataset/yes/Y161.JPG  \n",
            "  inflating: brain_tumor_dataset/yes/Y162.jpg  \n",
            "  inflating: brain_tumor_dataset/yes/Y163.JPG  \n",
            "  inflating: brain_tumor_dataset/yes/Y164.JPG  \n",
            "  inflating: brain_tumor_dataset/yes/Y165.JPG  \n",
            "  inflating: brain_tumor_dataset/yes/Y166.JPG  \n",
            "  inflating: brain_tumor_dataset/yes/Y167.JPG  \n",
            "  inflating: brain_tumor_dataset/yes/Y168.jpg  \n",
            "  inflating: brain_tumor_dataset/yes/Y169.jpg  \n",
            "  inflating: brain_tumor_dataset/yes/Y17.jpg  \n",
            "  inflating: brain_tumor_dataset/yes/Y170.JPG  \n",
            "  inflating: brain_tumor_dataset/yes/Y18.JPG  \n",
            "  inflating: brain_tumor_dataset/yes/Y180.jpg  \n",
            "  inflating: brain_tumor_dataset/yes/Y181.jpg  \n",
            "  inflating: brain_tumor_dataset/yes/Y182.JPG  \n",
            "  inflating: brain_tumor_dataset/yes/Y183.jpg  \n",
            "  inflating: brain_tumor_dataset/yes/Y184.JPG  \n",
            "  inflating: brain_tumor_dataset/yes/Y185.jpg  \n",
            "  inflating: brain_tumor_dataset/yes/Y186.jpg  \n",
            "  inflating: brain_tumor_dataset/yes/Y187.jpg  \n",
            "  inflating: brain_tumor_dataset/yes/Y188.jpg  \n",
            "  inflating: brain_tumor_dataset/yes/Y19.JPG  \n",
            "  inflating: brain_tumor_dataset/yes/Y192.JPG  \n",
            "  inflating: brain_tumor_dataset/yes/Y193.JPG  \n",
            "  inflating: brain_tumor_dataset/yes/Y194.jpg  \n",
            "  inflating: brain_tumor_dataset/yes/Y195.JPG  \n",
            "  inflating: brain_tumor_dataset/yes/Y2.jpg  \n",
            "  inflating: brain_tumor_dataset/yes/Y20.jpg  \n",
            "  inflating: brain_tumor_dataset/yes/Y21.jpg  \n",
            "  inflating: brain_tumor_dataset/yes/Y22.jpg  \n",
            "  inflating: brain_tumor_dataset/yes/Y23.JPG  \n",
            "  inflating: brain_tumor_dataset/yes/Y24.jpg  \n",
            "  inflating: brain_tumor_dataset/yes/Y242.JPG  \n",
            "  inflating: brain_tumor_dataset/yes/Y243.JPG  \n",
            "  inflating: brain_tumor_dataset/yes/Y244.JPG  \n",
            "  inflating: brain_tumor_dataset/yes/Y245.jpg  \n",
            "  inflating: brain_tumor_dataset/yes/Y246.JPG  \n",
            "  inflating: brain_tumor_dataset/yes/Y247.JPG  \n",
            "  inflating: brain_tumor_dataset/yes/Y248.JPG  \n",
            "  inflating: brain_tumor_dataset/yes/Y249.JPG  \n",
            "  inflating: brain_tumor_dataset/yes/Y25.jpg  \n",
            "  inflating: brain_tumor_dataset/yes/Y250.jpg  \n",
            "  inflating: brain_tumor_dataset/yes/Y251.JPG  \n",
            "  inflating: brain_tumor_dataset/yes/Y252.jpg  \n",
            "  inflating: brain_tumor_dataset/yes/Y253.JPG  \n",
            "  inflating: brain_tumor_dataset/yes/Y254.jpg  \n",
            "  inflating: brain_tumor_dataset/yes/Y255.JPG  \n",
            "  inflating: brain_tumor_dataset/yes/Y256.JPG  \n",
            "  inflating: brain_tumor_dataset/yes/Y257.jpg  \n",
            "  inflating: brain_tumor_dataset/yes/Y258.JPG  \n",
            "  inflating: brain_tumor_dataset/yes/Y259.JPG  \n",
            "  inflating: brain_tumor_dataset/yes/Y26.jpg  \n",
            "  inflating: brain_tumor_dataset/yes/Y27.jpg  \n",
            "  inflating: brain_tumor_dataset/yes/Y28.jpg  \n",
            "  inflating: brain_tumor_dataset/yes/Y29.jpg  \n",
            "  inflating: brain_tumor_dataset/yes/Y3.jpg  \n",
            "  inflating: brain_tumor_dataset/yes/Y30.jpg  \n",
            "  inflating: brain_tumor_dataset/yes/Y31.jpg  \n",
            "  inflating: brain_tumor_dataset/yes/Y32.jpg  \n",
            "  inflating: brain_tumor_dataset/yes/Y33.jpg  \n",
            "  inflating: brain_tumor_dataset/yes/Y34.jpg  \n",
            "  inflating: brain_tumor_dataset/yes/Y35.jpg  \n",
            "  inflating: brain_tumor_dataset/yes/Y36.JPG  \n",
            "  inflating: brain_tumor_dataset/yes/Y37.jpg  \n",
            "  inflating: brain_tumor_dataset/yes/Y38.jpg  \n",
            "  inflating: brain_tumor_dataset/yes/Y39.jpg  \n",
            "  inflating: brain_tumor_dataset/yes/Y4.jpg  \n",
            "  inflating: brain_tumor_dataset/yes/Y40.JPG  \n",
            "  inflating: brain_tumor_dataset/yes/Y41.jpg  \n",
            "  inflating: brain_tumor_dataset/yes/Y42.jpg  \n",
            "  inflating: brain_tumor_dataset/yes/Y44.JPG  \n",
            "  inflating: brain_tumor_dataset/yes/Y45.JPG  \n",
            "  inflating: brain_tumor_dataset/yes/Y46.jpg  \n",
            "  inflating: brain_tumor_dataset/yes/Y47.JPG  \n",
            "  inflating: brain_tumor_dataset/yes/Y49.JPG  \n",
            "  inflating: brain_tumor_dataset/yes/Y50.JPG  \n",
            "  inflating: brain_tumor_dataset/yes/Y51.jpg  \n",
            "  inflating: brain_tumor_dataset/yes/Y52.jpg  \n",
            "  inflating: brain_tumor_dataset/yes/Y53.jpg  \n",
            "  inflating: brain_tumor_dataset/yes/Y54.jpg  \n",
            "  inflating: brain_tumor_dataset/yes/Y55.jpg  \n",
            "  inflating: brain_tumor_dataset/yes/Y56.jpg  \n",
            "  inflating: brain_tumor_dataset/yes/Y58.JPG  \n",
            "  inflating: brain_tumor_dataset/yes/Y59.JPG  \n",
            "  inflating: brain_tumor_dataset/yes/Y6.jpg  \n",
            "  inflating: brain_tumor_dataset/yes/Y60.jpg  \n",
            "  inflating: brain_tumor_dataset/yes/Y61.jpg  \n",
            "  inflating: brain_tumor_dataset/yes/Y62.jpg  \n",
            "  inflating: brain_tumor_dataset/yes/Y65.JPG  \n",
            "  inflating: brain_tumor_dataset/yes/Y66.JPG  \n",
            "  inflating: brain_tumor_dataset/yes/Y67.JPG  \n",
            "  inflating: brain_tumor_dataset/yes/Y69.jpg  \n",
            "  inflating: brain_tumor_dataset/yes/Y7.jpg  \n",
            "  inflating: brain_tumor_dataset/yes/Y70.jpg  \n",
            "  inflating: brain_tumor_dataset/yes/Y71.JPG  \n",
            "  inflating: brain_tumor_dataset/yes/Y73.jpg  \n",
            "  inflating: brain_tumor_dataset/yes/Y74.jpg  \n",
            "  inflating: brain_tumor_dataset/yes/Y75.JPG  \n",
            "  inflating: brain_tumor_dataset/yes/Y76.jpg  \n",
            "  inflating: brain_tumor_dataset/yes/Y77.jpg  \n",
            "  inflating: brain_tumor_dataset/yes/Y78.jpg  \n",
            "  inflating: brain_tumor_dataset/yes/Y79.jpg  \n",
            "  inflating: brain_tumor_dataset/yes/Y8.jpg  \n",
            "  inflating: brain_tumor_dataset/yes/Y81.jpg  \n",
            "  inflating: brain_tumor_dataset/yes/Y82.jpg  \n",
            "  inflating: brain_tumor_dataset/yes/Y85.JPG  \n",
            "  inflating: brain_tumor_dataset/yes/Y86.JPG  \n",
            "  inflating: brain_tumor_dataset/yes/Y89.JPG  \n",
            "  inflating: brain_tumor_dataset/yes/Y9.jpg  \n",
            "  inflating: brain_tumor_dataset/yes/Y90.jpg  \n",
            "  inflating: brain_tumor_dataset/yes/Y91.jpg  \n",
            "  inflating: brain_tumor_dataset/yes/Y92.jpg  \n",
            "  inflating: brain_tumor_dataset/yes/Y92.png  \n",
            "  inflating: brain_tumor_dataset/yes/Y95.jpg  \n",
            "  inflating: brain_tumor_dataset/yes/Y96.jpg  \n",
            "  inflating: brain_tumor_dataset/yes/Y97.JPG  \n",
            "  inflating: brain_tumor_dataset/yes/Y98.JPG  \n",
            "  inflating: brain_tumor_dataset/yes/Y99.JPG  \n",
            "  inflating: no/1 no.jpeg            \n",
            "  inflating: no/10 no.jpg            \n",
            "  inflating: no/11 no.jpg            \n",
            "  inflating: no/12 no.jpg            \n",
            "  inflating: no/13 no.jpg            \n",
            "  inflating: no/14 no.jpg            \n",
            "  inflating: no/15 no.jpg            \n",
            "  inflating: no/17 no.jpg            \n",
            "  inflating: no/18 no.jpg            \n",
            "  inflating: no/19 no.jpg            \n",
            "  inflating: no/2 no.jpeg            \n",
            "  inflating: no/20 no.jpg            \n",
            "  inflating: no/21 no.jpg            \n",
            "  inflating: no/22 no.jpg            \n",
            "  inflating: no/23 no.jpg            \n",
            "  inflating: no/24 no.jpg            \n",
            "  inflating: no/25 no.jpg            \n",
            "  inflating: no/26 no.jpg            \n",
            "  inflating: no/27 no.jpg            \n",
            "  inflating: no/28 no.jpg            \n",
            "  inflating: no/29 no.jpg            \n",
            "  inflating: no/3 no.jpg             \n",
            "  inflating: no/30 no.jpg            \n",
            "  inflating: no/31 no.jpg            \n",
            "  inflating: no/32 no.jpg            \n",
            "  inflating: no/33 no.jpg            \n",
            "  inflating: no/34 no.jpg            \n",
            "  inflating: no/35 no.jpg            \n",
            "  inflating: no/36 no.jpg            \n",
            "  inflating: no/37 no.jpg            \n",
            "  inflating: no/38 no.jpg            \n",
            "  inflating: no/39 no.jpg            \n",
            "  inflating: no/4 no.jpg             \n",
            "  inflating: no/40 no.jpg            \n",
            "  inflating: no/41 no.jpg            \n",
            "  inflating: no/42 no.jpg            \n",
            "  inflating: no/43 no.jpg            \n",
            "  inflating: no/44no.jpg             \n",
            "  inflating: no/45 no.jpg            \n",
            "  inflating: no/46 no.jpg            \n",
            "  inflating: no/47 no.jpg            \n",
            "  inflating: no/48 no.jpeg           \n",
            "  inflating: no/49 no.jpg            \n",
            "  inflating: no/5 no.jpg             \n",
            "  inflating: no/50 no.jpg            \n",
            "  inflating: no/6 no.jpg             \n",
            "  inflating: no/7 no.jpg             \n",
            "  inflating: no/8 no.jpg             \n",
            "  inflating: no/9 no.jpg             \n",
            "  inflating: no/N1.JPG               \n",
            "  inflating: no/N11.jpg              \n",
            "  inflating: no/N15.jpg              \n",
            "  inflating: no/N16.jpg              \n",
            "  inflating: no/N17.jpg              \n",
            "  inflating: no/N19.JPG              \n",
            "  inflating: no/N2.JPG               \n",
            "  inflating: no/N20.JPG              \n",
            "  inflating: no/N21.jpg              \n",
            "  inflating: no/N22.JPG              \n",
            "  inflating: no/N26.JPG              \n",
            "  inflating: no/N3.jpg               \n",
            "  inflating: no/N5.jpg               \n",
            "  inflating: no/N6.jpg               \n",
            "  inflating: no/No11.jpg             \n",
            "  inflating: no/No12.jpg             \n",
            "  inflating: no/No13.jpg             \n",
            "  inflating: no/No14.jpg             \n",
            "  inflating: no/No15.jpg             \n",
            "  inflating: no/No16.jpg             \n",
            "  inflating: no/No17.jpg             \n",
            "  inflating: no/No18.jpg             \n",
            "  inflating: no/No19.jpg             \n",
            "  inflating: no/No20.jpg             \n",
            "  inflating: no/No21.jpg             \n",
            "  inflating: no/No22.jpg             \n",
            "  inflating: no/no 1.jpg             \n",
            "  inflating: no/no 10.jpg            \n",
            "  inflating: no/no 100.jpg           \n",
            "  inflating: no/no 2.jpg             \n",
            "  inflating: no/no 3.jpg             \n",
            "  inflating: no/no 4.jpg             \n",
            "  inflating: no/no 5.jpeg            \n",
            "  inflating: no/no 6.jpg             \n",
            "  inflating: no/no 7.jpeg            \n",
            "  inflating: no/no 8.jpg             \n",
            "  inflating: no/no 89.jpg            \n",
            "  inflating: no/no 9.png             \n",
            "  inflating: no/no 90.jpg            \n",
            "  inflating: no/no 91.jpeg           \n",
            "  inflating: no/no 92.jpg            \n",
            "  inflating: no/no 923.jpg           \n",
            "  inflating: no/no 94.jpg            \n",
            "  inflating: no/no 95.jpg            \n",
            "  inflating: no/no 96.jpg            \n",
            "  inflating: no/no 97.jpg            \n",
            "  inflating: no/no 98.jpg            \n",
            "  inflating: no/no 99.jpg            \n",
            "  inflating: no/no.jpg               \n",
            "  inflating: yes/Y1.jpg              \n",
            "  inflating: yes/Y10.jpg             \n",
            "  inflating: yes/Y100.JPG            \n",
            "  inflating: yes/Y101.jpg            \n",
            "  inflating: yes/Y102.jpg            \n",
            "  inflating: yes/Y103.jpg            \n",
            "  inflating: yes/Y104.jpg            \n",
            "  inflating: yes/Y105.jpg            \n",
            "  inflating: yes/Y106.jpg            \n",
            "  inflating: yes/Y107.jpg            \n",
            "  inflating: yes/Y108.jpg            \n",
            "  inflating: yes/Y109.JPG            \n",
            "  inflating: yes/Y11.jpg             \n",
            "  inflating: yes/Y111.JPG            \n",
            "  inflating: yes/Y112.JPG            \n",
            "  inflating: yes/Y113.JPG            \n",
            "  inflating: yes/Y114.JPG            \n",
            "  inflating: yes/Y115.JPG            \n",
            "  inflating: yes/Y116.JPG            \n",
            "  inflating: yes/Y117.JPG            \n",
            "  inflating: yes/Y12.jpg             \n",
            "  inflating: yes/Y120.JPG            \n",
            "  inflating: yes/Y13.jpg             \n",
            "  inflating: yes/Y14.jpg             \n",
            "  inflating: yes/Y146.JPG            \n",
            "  inflating: yes/Y147.JPG            \n",
            "  inflating: yes/Y148.JPG            \n",
            "  inflating: yes/Y15.jpg             \n",
            "  inflating: yes/Y153.jpg            \n",
            "  inflating: yes/Y154.jpg            \n",
            "  inflating: yes/Y155.JPG            \n",
            "  inflating: yes/Y156.JPG            \n",
            "  inflating: yes/Y157.JPG            \n",
            "  inflating: yes/Y158.JPG            \n",
            "  inflating: yes/Y159.JPG            \n",
            "  inflating: yes/Y16.JPG             \n",
            "  inflating: yes/Y160.JPG            \n",
            "  inflating: yes/Y161.JPG            \n",
            "  inflating: yes/Y162.jpg            \n",
            "  inflating: yes/Y163.JPG            \n",
            "  inflating: yes/Y164.JPG            \n",
            "  inflating: yes/Y165.JPG            \n",
            "  inflating: yes/Y166.JPG            \n",
            "  inflating: yes/Y167.JPG            \n",
            "  inflating: yes/Y168.jpg            \n",
            "  inflating: yes/Y169.jpg            \n",
            "  inflating: yes/Y17.jpg             \n",
            "  inflating: yes/Y170.JPG            \n",
            "  inflating: yes/Y18.JPG             \n",
            "  inflating: yes/Y180.jpg            \n",
            "  inflating: yes/Y181.jpg            \n",
            "  inflating: yes/Y182.JPG            \n",
            "  inflating: yes/Y183.jpg            \n",
            "  inflating: yes/Y184.JPG            \n",
            "  inflating: yes/Y185.jpg            \n",
            "  inflating: yes/Y186.jpg            \n",
            "  inflating: yes/Y187.jpg            \n",
            "  inflating: yes/Y188.jpg            \n",
            "  inflating: yes/Y19.JPG             \n",
            "  inflating: yes/Y192.JPG            \n",
            "  inflating: yes/Y193.JPG            \n",
            "  inflating: yes/Y194.jpg            \n",
            "  inflating: yes/Y195.JPG            \n",
            "  inflating: yes/Y2.jpg              \n",
            "  inflating: yes/Y20.jpg             \n",
            "  inflating: yes/Y21.jpg             \n",
            "  inflating: yes/Y22.jpg             \n",
            "  inflating: yes/Y23.JPG             \n",
            "  inflating: yes/Y24.jpg             \n",
            "  inflating: yes/Y242.JPG            \n",
            "  inflating: yes/Y243.JPG            \n",
            "  inflating: yes/Y244.JPG            \n",
            "  inflating: yes/Y245.jpg            \n",
            "  inflating: yes/Y246.JPG            \n",
            "  inflating: yes/Y247.JPG            \n",
            "  inflating: yes/Y248.JPG            \n",
            "  inflating: yes/Y249.JPG            \n",
            "  inflating: yes/Y25.jpg             \n",
            "  inflating: yes/Y250.jpg            \n",
            "  inflating: yes/Y251.JPG            \n",
            "  inflating: yes/Y252.jpg            \n",
            "  inflating: yes/Y253.JPG            \n",
            "  inflating: yes/Y254.jpg            \n",
            "  inflating: yes/Y255.JPG            \n",
            "  inflating: yes/Y256.JPG            \n",
            "  inflating: yes/Y257.jpg            \n",
            "  inflating: yes/Y258.JPG            \n",
            "  inflating: yes/Y259.JPG            \n",
            "  inflating: yes/Y26.jpg             \n",
            "  inflating: yes/Y27.jpg             \n",
            "  inflating: yes/Y28.jpg             \n",
            "  inflating: yes/Y29.jpg             \n",
            "  inflating: yes/Y3.jpg              \n",
            "  inflating: yes/Y30.jpg             \n",
            "  inflating: yes/Y31.jpg             \n",
            "  inflating: yes/Y32.jpg             \n",
            "  inflating: yes/Y33.jpg             \n",
            "  inflating: yes/Y34.jpg             \n",
            "  inflating: yes/Y35.jpg             \n",
            "  inflating: yes/Y36.JPG             \n",
            "  inflating: yes/Y37.jpg             \n",
            "  inflating: yes/Y38.jpg             \n",
            "  inflating: yes/Y39.jpg             \n",
            "  inflating: yes/Y4.jpg              \n",
            "  inflating: yes/Y40.JPG             \n",
            "  inflating: yes/Y41.jpg             \n",
            "  inflating: yes/Y42.jpg             \n",
            "  inflating: yes/Y44.JPG             \n",
            "  inflating: yes/Y45.JPG             \n",
            "  inflating: yes/Y46.jpg             \n",
            "  inflating: yes/Y47.JPG             \n",
            "  inflating: yes/Y49.JPG             \n",
            "  inflating: yes/Y50.JPG             \n",
            "  inflating: yes/Y51.jpg             \n",
            "  inflating: yes/Y52.jpg             \n",
            "  inflating: yes/Y53.jpg             \n",
            "  inflating: yes/Y54.jpg             \n",
            "  inflating: yes/Y55.jpg             \n",
            "  inflating: yes/Y56.jpg             \n",
            "  inflating: yes/Y58.JPG             \n",
            "  inflating: yes/Y59.JPG             \n",
            "  inflating: yes/Y6.jpg              \n",
            "  inflating: yes/Y60.jpg             \n",
            "  inflating: yes/Y61.jpg             \n",
            "  inflating: yes/Y62.jpg             \n",
            "  inflating: yes/Y65.JPG             \n",
            "  inflating: yes/Y66.JPG             \n",
            "  inflating: yes/Y67.JPG             \n",
            "  inflating: yes/Y69.jpg             \n",
            "  inflating: yes/Y7.jpg              \n",
            "  inflating: yes/Y70.jpg             \n",
            "  inflating: yes/Y71.JPG             \n",
            "  inflating: yes/Y73.jpg             \n",
            "  inflating: yes/Y74.jpg             \n",
            "  inflating: yes/Y75.JPG             \n",
            "  inflating: yes/Y76.jpg             \n",
            "  inflating: yes/Y77.jpg             \n",
            "  inflating: yes/Y78.jpg             \n",
            "  inflating: yes/Y79.jpg             \n",
            "  inflating: yes/Y8.jpg              \n",
            "  inflating: yes/Y81.jpg             \n",
            "  inflating: yes/Y82.jpg             \n",
            "  inflating: yes/Y85.JPG             \n",
            "  inflating: yes/Y86.JPG             \n",
            "  inflating: yes/Y89.JPG             \n",
            "  inflating: yes/Y9.jpg              \n",
            "  inflating: yes/Y90.jpg             \n",
            "  inflating: yes/Y91.jpg             \n",
            "  inflating: yes/Y92.jpg             \n",
            "  inflating: yes/Y92.png             \n",
            "  inflating: yes/Y95.jpg             \n",
            "  inflating: yes/Y96.jpg             \n",
            "  inflating: yes/Y97.JPG             \n",
            "  inflating: yes/Y98.JPG             \n",
            "  inflating: yes/Y99.JPG             \n"
          ]
        }
      ]
    },
    {
      "cell_type": "code",
      "metadata": {
        "id": "ccgeZuhQeW1k"
      },
      "source": [
        "import os\n",
        "import keras \n",
        "from keras.models import Sequential\n",
        "from keras.layers import Conv2D, MaxPooling2D, Flatten, Dense, Dropout, BatchNormalization\n",
        "from PIL import Image\n",
        "import numpy as np\n",
        "import pandas as pd\n",
        "import matplotlib.pyplot as plt\n",
        "plt.style.use('dark_background')\n",
        "from sklearn.model_selection import train_test_split\n",
        "from sklearn.preprocessing import OneHotEncoder "
      ],
      "execution_count": 21,
      "outputs": []
    },
    {
      "cell_type": "markdown",
      "metadata": {
        "id": "wAdYe0ot1_Jk"
      },
      "source": [
        "One Hot Encoding the Target Classes"
      ]
    },
    {
      "cell_type": "code",
      "metadata": {
        "id": "Akf0YJFhhWAA",
        "colab": {
          "base_uri": "https://localhost:8080/"
        },
        "outputId": "8e08b5c4-ee67-4c05-8b59-e3800b69b214"
      },
      "source": [
        "encoder = OneHotEncoder()\n",
        "encoder.fit([[0], [1]]) "
      ],
      "execution_count": 22,
      "outputs": [
        {
          "output_type": "execute_result",
          "data": {
            "text/plain": [
              "OneHotEncoder(categories='auto', drop=None, dtype=<class 'numpy.float64'>,\n",
              "              handle_unknown='error', sparse=True)"
            ]
          },
          "metadata": {},
          "execution_count": 22
        }
      ]
    },
    {
      "cell_type": "markdown",
      "metadata": {
        "id": "uOqfyl1A2Gp2"
      },
      "source": [
        "Creating 3 Important Lists --\n",
        "<br/>\n",
        "1.data list for storing image data in numpy array form\n",
        "<br/>\n",
        "2.paths list for storing paths of all images\n",
        "<br/>\n",
        "3.result list for storing one hot encoded form of target class whether normal or tumor\n"
      ]
    },
    {
      "cell_type": "markdown",
      "metadata": {
        "id": "ETnePmBV2MDw"
      },
      "source": [
        ""
      ]
    },
    {
      "cell_type": "code",
      "metadata": {
        "id": "jZBX_I2V0Ij0"
      },
      "source": [
        "data = []\n",
        "paths = []\n",
        "result = []\n",
        "\n",
        "for r, d, f in os.walk('./brain_tumor_dataset/yes'):\n",
        "    for file in f:\n",
        "        if '.jpg' in file:\n",
        "            paths.append(os.path.join(r, file))\n",
        "\n",
        "for path in paths:\n",
        "    img = Image.open(path)\n",
        "    img = img.resize((128,128))\n",
        "    img = np.array(img)\n",
        "    if(img.shape == (128,128,3)):\n",
        "        data.append(np.array(img))\n",
        "        result.append(encoder.transform([[0]]).toarray())"
      ],
      "execution_count": 24,
      "outputs": []
    },
    {
      "cell_type": "code",
      "metadata": {
        "id": "Llyyn_C_0V-W"
      },
      "source": [
        "\n",
        "paths = []\n",
        "for r, d, f in os.walk(\"./brain_tumor_dataset/no\"):\n",
        "    for file in f:\n",
        "        if '.jpg' in file:\n",
        "            paths.append(os.path.join(r, file))\n",
        "\n",
        "for path in paths:\n",
        "    img = Image.open(path)\n",
        "    img = img.resize((128,128))\n",
        "    img = np.array(img)\n",
        "    if(img.shape == (128,128,3)):\n",
        "        data.append(np.array(img))\n",
        "        result.append(encoder.transform([[1]]).toarray())"
      ],
      "execution_count": 25,
      "outputs": []
    },
    {
      "cell_type": "code",
      "metadata": {
        "colab": {
          "base_uri": "https://localhost:8080/"
        },
        "id": "YR8OzWtN0hcX",
        "outputId": "f4484c9f-f695-4cb0-a481-985351ac2378"
      },
      "source": [
        "data = np.array(data)\n",
        "data.shape"
      ],
      "execution_count": 26,
      "outputs": [
        {
          "output_type": "execute_result",
          "data": {
            "text/plain": [
              "(139, 128, 128, 3)"
            ]
          },
          "metadata": {},
          "execution_count": 26
        }
      ]
    },
    {
      "cell_type": "code",
      "metadata": {
        "id": "RT0IF08I0kK5"
      },
      "source": [
        "result = np.array(result)\n",
        "result = result.reshape(139,2)"
      ],
      "execution_count": 27,
      "outputs": []
    },
    {
      "cell_type": "markdown",
      "metadata": {
        "id": "tezrpBwi2fgx"
      },
      "source": [
        "Splitting the Data into Training & Testing"
      ]
    },
    {
      "cell_type": "code",
      "metadata": {
        "id": "ACcIKLwk0nuX"
      },
      "source": [
        "x_train,x_test,y_train,y_test = train_test_split(data, result, test_size=0.2, shuffle=True, random_state=0)"
      ],
      "execution_count": 28,
      "outputs": []
    },
    {
      "cell_type": "markdown",
      "metadata": {
        "id": "W448o94q2jfi"
      },
      "source": [
        "Batch normalization is a technique for training very deep neural networks that standardizes the inputs to a layer for each mini-batch. This has the effect of stabilizing the learning process and dramatically reducing the number of training epochs required to train deep networks."
      ]
    },
    {
      "cell_type": "code",
      "metadata": {
        "colab": {
          "base_uri": "https://localhost:8080/"
        },
        "id": "3g-cYs840pqC",
        "outputId": "0c528411-6574-452f-bec5-02c1a12818a2"
      },
      "source": [
        "model = Sequential()\n",
        "\n",
        "model.add(Conv2D(32, kernel_size=(2, 2), input_shape=(128, 128, 3), padding = 'Same'))\n",
        "model.add(Conv2D(32, kernel_size=(2, 2),  activation ='relu', padding = 'Same'))\n",
        "\n",
        "\n",
        "model.add(BatchNormalization())\n",
        "model.add(MaxPooling2D(pool_size=(2, 2)))\n",
        "model.add(Dropout(0.25))\n",
        "\n",
        "model.add(Conv2D(64, kernel_size = (2,2), activation ='relu', padding = 'Same'))\n",
        "model.add(Conv2D(64, kernel_size = (2,2), activation ='relu', padding = 'Same'))\n",
        "\n",
        "model.add(BatchNormalization())\n",
        "model.add(MaxPooling2D(pool_size=(2,2), strides=(2,2)))\n",
        "model.add(Dropout(0.25))\n",
        "\n",
        "model.add(Flatten())\n",
        "\n",
        "model.add(Dense(512, activation='relu'))\n",
        "model.add(Dropout(0.5))\n",
        "model.add(Dense(2, activation='softmax'))\n",
        "\n",
        "model.compile(loss = \"categorical_crossentropy\", optimizer='Adamax')\n",
        "print(model.summary())"
      ],
      "execution_count": 29,
      "outputs": [
        {
          "output_type": "stream",
          "name": "stdout",
          "text": [
            "Model: \"sequential\"\n",
            "_________________________________________________________________\n",
            "Layer (type)                 Output Shape              Param #   \n",
            "=================================================================\n",
            "conv2d (Conv2D)              (None, 128, 128, 32)      416       \n",
            "_________________________________________________________________\n",
            "conv2d_1 (Conv2D)            (None, 128, 128, 32)      4128      \n",
            "_________________________________________________________________\n",
            "batch_normalization (BatchNo (None, 128, 128, 32)      128       \n",
            "_________________________________________________________________\n",
            "max_pooling2d (MaxPooling2D) (None, 64, 64, 32)        0         \n",
            "_________________________________________________________________\n",
            "dropout (Dropout)            (None, 64, 64, 32)        0         \n",
            "_________________________________________________________________\n",
            "conv2d_2 (Conv2D)            (None, 64, 64, 64)        8256      \n",
            "_________________________________________________________________\n",
            "conv2d_3 (Conv2D)            (None, 64, 64, 64)        16448     \n",
            "_________________________________________________________________\n",
            "batch_normalization_1 (Batch (None, 64, 64, 64)        256       \n",
            "_________________________________________________________________\n",
            "max_pooling2d_1 (MaxPooling2 (None, 32, 32, 64)        0         \n",
            "_________________________________________________________________\n",
            "dropout_1 (Dropout)          (None, 32, 32, 64)        0         \n",
            "_________________________________________________________________\n",
            "flatten (Flatten)            (None, 65536)             0         \n",
            "_________________________________________________________________\n",
            "dense (Dense)                (None, 512)               33554944  \n",
            "_________________________________________________________________\n",
            "dropout_2 (Dropout)          (None, 512)               0         \n",
            "_________________________________________________________________\n",
            "dense_1 (Dense)              (None, 2)                 1026      \n",
            "=================================================================\n",
            "Total params: 33,585,602\n",
            "Trainable params: 33,585,410\n",
            "Non-trainable params: 192\n",
            "_________________________________________________________________\n",
            "None\n"
          ]
        }
      ]
    },
    {
      "cell_type": "code",
      "metadata": {
        "colab": {
          "base_uri": "https://localhost:8080/"
        },
        "id": "fiFgebmb0wb3",
        "outputId": "5db7e45a-2c52-4e38-ac72-3a4fd9fb1406"
      },
      "source": [
        "y_train.shape\n"
      ],
      "execution_count": 30,
      "outputs": [
        {
          "output_type": "execute_result",
          "data": {
            "text/plain": [
              "(111, 2)"
            ]
          },
          "metadata": {},
          "execution_count": 30
        }
      ]
    },
    {
      "cell_type": "code",
      "metadata": {
        "colab": {
          "base_uri": "https://localhost:8080/"
        },
        "id": "WLnJvzBC00wl",
        "outputId": "843b61db-7ae2-423f-87bb-6f3b112577a9"
      },
      "source": [
        "history = model.fit(x_train, y_train, epochs = 30, batch_size = 40, verbose = 1,validation_data = (x_test, y_test))\n"
      ],
      "execution_count": 31,
      "outputs": [
        {
          "output_type": "stream",
          "name": "stdout",
          "text": [
            "Epoch 1/30\n",
            "3/3 [==============================] - 11s 3s/step - loss: 58.4981 - val_loss: 77.2403\n",
            "Epoch 2/30\n",
            "3/3 [==============================] - 7s 2s/step - loss: 21.4345 - val_loss: 19.6722\n",
            "Epoch 3/30\n",
            "3/3 [==============================] - 7s 2s/step - loss: 10.4053 - val_loss: 15.3007\n",
            "Epoch 4/30\n",
            "3/3 [==============================] - 7s 2s/step - loss: 7.5554 - val_loss: 8.0699\n",
            "Epoch 5/30\n",
            "3/3 [==============================] - 7s 2s/step - loss: 5.2173 - val_loss: 4.0113\n",
            "Epoch 6/30\n",
            "3/3 [==============================] - 7s 2s/step - loss: 3.1284 - val_loss: 5.4441\n",
            "Epoch 7/30\n",
            "3/3 [==============================] - 7s 2s/step - loss: 1.3842 - val_loss: 8.0928\n",
            "Epoch 8/30\n",
            "3/3 [==============================] - 7s 2s/step - loss: 1.0592 - val_loss: 8.6993\n",
            "Epoch 9/30\n",
            "3/3 [==============================] - 7s 2s/step - loss: 1.1873 - val_loss: 6.8856\n",
            "Epoch 10/30\n",
            "3/3 [==============================] - 7s 2s/step - loss: 0.1819 - val_loss: 5.1749\n",
            "Epoch 11/30\n",
            "3/3 [==============================] - 7s 2s/step - loss: 0.5168 - val_loss: 4.6031\n",
            "Epoch 12/30\n",
            "3/3 [==============================] - 7s 2s/step - loss: 0.0798 - val_loss: 4.2627\n",
            "Epoch 13/30\n",
            "3/3 [==============================] - 7s 2s/step - loss: 0.0734 - val_loss: 4.1753\n",
            "Epoch 14/30\n",
            "3/3 [==============================] - 7s 2s/step - loss: 0.1016 - val_loss: 4.0089\n",
            "Epoch 15/30\n",
            "3/3 [==============================] - 7s 2s/step - loss: 0.3783 - val_loss: 4.1505\n",
            "Epoch 16/30\n",
            "3/3 [==============================] - 7s 2s/step - loss: 0.3743 - val_loss: 4.3680\n",
            "Epoch 17/30\n",
            "3/3 [==============================] - 7s 2s/step - loss: 0.0027 - val_loss: 4.4578\n",
            "Epoch 18/30\n",
            "3/3 [==============================] - 7s 2s/step - loss: 0.0128 - val_loss: 4.6255\n",
            "Epoch 19/30\n",
            "3/3 [==============================] - 7s 2s/step - loss: 0.0766 - val_loss: 4.7004\n",
            "Epoch 20/30\n",
            "3/3 [==============================] - 7s 2s/step - loss: 0.0265 - val_loss: 4.6056\n",
            "Epoch 21/30\n",
            "3/3 [==============================] - 7s 2s/step - loss: 2.3399e-06 - val_loss: 4.5106\n",
            "Epoch 22/30\n",
            "3/3 [==============================] - 7s 2s/step - loss: 0.0046 - val_loss: 4.4142\n",
            "Epoch 23/30\n",
            "3/3 [==============================] - 7s 2s/step - loss: 0.0038 - val_loss: 4.3688\n",
            "Epoch 24/30\n",
            "3/3 [==============================] - 7s 2s/step - loss: 0.0045 - val_loss: 4.3248\n",
            "Epoch 25/30\n",
            "3/3 [==============================] - 7s 2s/step - loss: 0.0010 - val_loss: 4.2812\n",
            "Epoch 26/30\n",
            "3/3 [==============================] - 7s 2s/step - loss: 3.3226e-04 - val_loss: 4.2430\n",
            "Epoch 27/30\n",
            "3/3 [==============================] - 7s 2s/step - loss: 0.0784 - val_loss: 4.2853\n",
            "Epoch 28/30\n",
            "3/3 [==============================] - 7s 2s/step - loss: 0.0671 - val_loss: 4.2091\n",
            "Epoch 29/30\n",
            "3/3 [==============================] - 7s 2s/step - loss: 0.0081 - val_loss: 4.0528\n",
            "Epoch 30/30\n",
            "3/3 [==============================] - 7s 2s/step - loss: 0.0068 - val_loss: 3.9474\n"
          ]
        }
      ]
    },
    {
      "cell_type": "code",
      "metadata": {
        "id": "rYLimDzM02LZ"
      },
      "source": [
        "def names(number):\n",
        "    if number==0:\n",
        "        return 'Its a Tumor'\n",
        "    else:\n",
        "        return 'No, Its not a tumor'"
      ],
      "execution_count": 32,
      "outputs": []
    },
    {
      "cell_type": "code",
      "metadata": {
        "colab": {
          "base_uri": "https://localhost:8080/",
          "height": 286
        },
        "id": "A4Y-hpjU1H6-",
        "outputId": "f9e164c0-ea0f-4a09-91d1-8976bbf7af01"
      },
      "source": [
        "from matplotlib.pyplot import imshow\n",
        "img = Image.open(\"./brain_tumor_dataset/no/N17.jpg\")\n",
        "x = np.array(img.resize((128,128)))\n",
        "x = x.reshape(1,128,128,3)\n",
        "res = model.predict_on_batch(x)\n",
        "classification = np.where(res == np.amax(res))[1][0]\n",
        "imshow(img)\n",
        "print(str(res[0][classification]*100) + '% Confidence This Is ' + names(classification))"
      ],
      "execution_count": 34,
      "outputs": [
        {
          "output_type": "stream",
          "name": "stdout",
          "text": [
            "100.0% Confidence This Is No, Its not a tumor\n"
          ]
        },
        {
          "output_type": "display_data",
          "data": {
            "image/png": "[encoded data removed]",
            "text/plain": [
              "<Figure size 432x288 with 1 Axes>"
            ]
          },
          "metadata": {}
        }
      ]
    },
    {
      "cell_type": "code",
      "metadata": {
        "colab": {
          "base_uri": "https://localhost:8080/",
          "height": 286
        },
        "id": "nHOIxFb81ZLf",
        "outputId": "b8887416-332e-4b69-ab12-fe53f8b26c1a"
      },
      "source": [
        "from matplotlib.pyplot import imshow\n",
        "img = Image.open(\"./brain_tumor_dataset/yes/Y3.jpg\")\n",
        "x = np.array(img.resize((128,128)))\n",
        "x = x.reshape(1,128,128,3)\n",
        "res = model.predict_on_batch(x)\n",
        "classification = np.where(res == np.amax(res))[1][0]\n",
        "imshow(img)\n",
        "print(str(res[0][classification]*100) + '% Confidence This Is A ' + names(classification))"
      ],
      "execution_count": 37,
      "outputs": [
        {
          "output_type": "stream",
          "name": "stdout",
          "text": [
            "100.0% Confidence This Is A Its a Tumor\n"
          ]
        },
        {
          "output_type": "display_data",
          "data": {
            "image/png": "[encoded data removed]",
            "text/plain": [
              "<Figure size 432x288 with 1 Axes>"
            ]
          },
          "metadata": {}
        }
      ]
    },
    {
      "cell_type": "code",
      "metadata": {
        "id": "H2ZZL7LR11et"
      },
      "source": [
        ""
      ],
      "execution_count": null,
      "outputs": []
    }
  ]
}